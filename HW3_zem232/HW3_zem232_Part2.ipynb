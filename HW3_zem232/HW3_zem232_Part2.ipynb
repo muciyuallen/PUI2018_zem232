{
 "cells": [
  {
   "cell_type": "markdown",
   "metadata": {},
   "source": [
    "# Part 2 of Homework 3\n",
    "Code written by ZEM, instructed by FBB, for NYU PUI in 2018\n",
    "Data obtained through NYC OPEN DATA public data portal https://data.cityofnewyork.us/"
   ]
  },
  {
   "cell_type": "code",
   "execution_count": 1,
   "metadata": {},
   "outputs": [],
   "source": [
    "#provide compatibility between Python 2 and Python 3\n",
    "from __future__ import print_function"
   ]
  },
  {
   "cell_type": "code",
   "execution_count": 2,
   "metadata": {},
   "outputs": [],
   "source": [
    "import os\n",
    "puidata = os.getenv(\"PUIDATA\")\n",
    "if puidata is None:\n",
    "    os.environ[\"PUIDATA\"] = \"%s/PUIdata\"%os.getenv(\"HOME\")\n",
    "    puidata = os.getenv(\"PUIDATA\")"
   ]
  },
  {
   "cell_type": "code",
   "execution_count": 3,
   "metadata": {},
   "outputs": [
    {
     "name": "stdout",
     "output_type": "stream",
     "text": [
      "PUIdata /nfshome/zem232/PUIdata\n"
     ]
    }
   ],
   "source": [
    "print(\"PUIdata\",os.getenv(\"PUIDATA\"))"
   ]
  },
  {
   "cell_type": "code",
   "execution_count": null,
   "metadata": {},
   "outputs": [],
   "source": [
    "!curl https://data.cityofnewyork.us/api/views/k397-673e/rows.csv?accessType=DOWNLOAD > citypayroll.csv"
   ]
  },
  {
   "cell_type": "code",
   "execution_count": null,
   "metadata": {},
   "outputs": [],
   "source": [
    "# move the .csv to /PUIdata\n",
    "!mv citypayroll.csv $PUIDATA"
   ]
  },
  {
   "cell_type": "code",
   "execution_count": 4,
   "metadata": {},
   "outputs": [
    {
     "name": "stdout",
     "output_type": "stream",
     "text": [
      "citypayroll.csv  IntrotoStats_Table6_1.csv\r\n"
     ]
    }
   ],
   "source": [
    "#check to see current files in /PUIdata\n",
    "!ls $PUIDATA"
   ]
  },
  {
   "cell_type": "code",
   "execution_count": 5,
   "metadata": {},
   "outputs": [
    {
     "name": "stderr",
     "output_type": "stream",
     "text": [
      "/usr/local/Anaconda3-5.0.0-Linux-x86_64/envs/PUI2016_Python2/lib/python2.7/site-packages/IPython/core/interactiveshell.py:2717: DtypeWarning: Columns (6) have mixed types. Specify dtype option on import or set low_memory=False.\n",
      "  interactivity=interactivity, compiler=compiler, result=result)\n"
     ]
    }
   ],
   "source": [
    "import pandas as pd\n",
    "nycpay=pd.read_csv(\"%s/citypayroll.csv\"%os.getenv(\"PUIDATA\"))"
   ]
  },
  {
   "cell_type": "code",
   "execution_count": 6,
   "metadata": {},
   "outputs": [
    {
     "data": {
      "text/html": [
       "<div>\n",
       "<table border=\"1\" class=\"dataframe\">\n",
       "  <thead>\n",
       "    <tr style=\"text-align: right;\">\n",
       "      <th></th>\n",
       "      <th>Fiscal Year</th>\n",
       "      <th>Agency Name</th>\n",
       "      <th>Last Name</th>\n",
       "      <th>First Name</th>\n",
       "      <th>Mid Init</th>\n",
       "      <th>Agency Start Date</th>\n",
       "      <th>Work Location Borough</th>\n",
       "      <th>Title Description</th>\n",
       "      <th>Leave Status as of June 30</th>\n",
       "      <th>Base Salary</th>\n",
       "      <th>Pay Basis</th>\n",
       "      <th>Regular Hours</th>\n",
       "      <th>Regular Gross Paid</th>\n",
       "      <th>OT Hours</th>\n",
       "      <th>Total OT Paid</th>\n",
       "      <th>Total Other Pay</th>\n",
       "    </tr>\n",
       "  </thead>\n",
       "  <tbody>\n",
       "    <tr>\n",
       "      <th>0</th>\n",
       "      <td>2016</td>\n",
       "      <td>DISTRICT ATTORNEY-MANHATTAN</td>\n",
       "      <td>ABA'AHMID</td>\n",
       "      <td>RAHASHEEM</td>\n",
       "      <td>E</td>\n",
       "      <td>07/14/2003</td>\n",
       "      <td>MANHATTAN</td>\n",
       "      <td>COMMUNITY ASSOCIATE                           ...</td>\n",
       "      <td>ACTIVE</td>\n",
       "      <td>47678.0</td>\n",
       "      <td>per Annum</td>\n",
       "      <td>1830.00</td>\n",
       "      <td>47166.03</td>\n",
       "      <td>2.25</td>\n",
       "      <td>57.28</td>\n",
       "      <td>0.0</td>\n",
       "    </tr>\n",
       "    <tr>\n",
       "      <th>1</th>\n",
       "      <td>2016</td>\n",
       "      <td>DISTRICT ATTORNEY-MANHATTAN</td>\n",
       "      <td>ABENSUR</td>\n",
       "      <td>MARGARET</td>\n",
       "      <td>NaN</td>\n",
       "      <td>06/12/1995</td>\n",
       "      <td>MANHATTAN</td>\n",
       "      <td>ADMINISTRATIVE ACCOUNTANT                     ...</td>\n",
       "      <td>ACTIVE</td>\n",
       "      <td>119959.0</td>\n",
       "      <td>per Annum</td>\n",
       "      <td>1831.00</td>\n",
       "      <td>119042.50</td>\n",
       "      <td>0.00</td>\n",
       "      <td>0.00</td>\n",
       "      <td>0.0</td>\n",
       "    </tr>\n",
       "    <tr>\n",
       "      <th>2</th>\n",
       "      <td>2016</td>\n",
       "      <td>DISTRICT ATTORNEY-MANHATTAN</td>\n",
       "      <td>ABOUNAOUM</td>\n",
       "      <td>ANDREA</td>\n",
       "      <td>L</td>\n",
       "      <td>10/11/2011</td>\n",
       "      <td>MANHATTAN</td>\n",
       "      <td>COMMUNITY ASSOCIATE                           ...</td>\n",
       "      <td>ON LEAVE</td>\n",
       "      <td>39966.0</td>\n",
       "      <td>per Annum</td>\n",
       "      <td>1181.68</td>\n",
       "      <td>27452.62</td>\n",
       "      <td>1.00</td>\n",
       "      <td>21.34</td>\n",
       "      <td>33.0</td>\n",
       "    </tr>\n",
       "    <tr>\n",
       "      <th>3</th>\n",
       "      <td>2016</td>\n",
       "      <td>DISTRICT ATTORNEY-MANHATTAN</td>\n",
       "      <td>ABRAHAM</td>\n",
       "      <td>JONATHAN</td>\n",
       "      <td>J</td>\n",
       "      <td>12/01/2014</td>\n",
       "      <td>MANHATTAN</td>\n",
       "      <td>COMPUTER SYSTEMS MANAGER                      ...</td>\n",
       "      <td>ACTIVE</td>\n",
       "      <td>116000.0</td>\n",
       "      <td>per Annum</td>\n",
       "      <td>1831.00</td>\n",
       "      <td>115104.57</td>\n",
       "      <td>0.00</td>\n",
       "      <td>0.00</td>\n",
       "      <td>0.0</td>\n",
       "    </tr>\n",
       "    <tr>\n",
       "      <th>4</th>\n",
       "      <td>2016</td>\n",
       "      <td>DISTRICT ATTORNEY-MANHATTAN</td>\n",
       "      <td>ABRAMS</td>\n",
       "      <td>JOSEPH</td>\n",
       "      <td>NaN</td>\n",
       "      <td>05/21/2015</td>\n",
       "      <td>MANHATTAN</td>\n",
       "      <td>COLLEGE AIDE                                  ...</td>\n",
       "      <td>CEASED</td>\n",
       "      <td>1.0</td>\n",
       "      <td>per Hour</td>\n",
       "      <td>0.00</td>\n",
       "      <td>3500.00</td>\n",
       "      <td>0.00</td>\n",
       "      <td>0.00</td>\n",
       "      <td>0.0</td>\n",
       "    </tr>\n",
       "    <tr>\n",
       "      <th>5</th>\n",
       "      <td>2016</td>\n",
       "      <td>DISTRICT ATTORNEY-MANHATTAN</td>\n",
       "      <td>ABREU</td>\n",
       "      <td>JENNIFER</td>\n",
       "      <td>NaN</td>\n",
       "      <td>09/04/2012</td>\n",
       "      <td>MANHATTAN</td>\n",
       "      <td>ASSISTANT DISTRICT ATTORNEY                   ...</td>\n",
       "      <td>ACTIVE</td>\n",
       "      <td>71500.0</td>\n",
       "      <td>per Annum</td>\n",
       "      <td>1831.00</td>\n",
       "      <td>71967.34</td>\n",
       "      <td>0.00</td>\n",
       "      <td>0.00</td>\n",
       "      <td>0.0</td>\n",
       "    </tr>\n",
       "    <tr>\n",
       "      <th>6</th>\n",
       "      <td>2016</td>\n",
       "      <td>DISTRICT ATTORNEY-MANHATTAN</td>\n",
       "      <td>ABREU</td>\n",
       "      <td>JUAN</td>\n",
       "      <td>D</td>\n",
       "      <td>09/04/2007</td>\n",
       "      <td>MANHATTAN</td>\n",
       "      <td>ASSISTANT DISTRICT ATTORNEY                   ...</td>\n",
       "      <td>ACTIVE</td>\n",
       "      <td>88000.0</td>\n",
       "      <td>per Annum</td>\n",
       "      <td>1831.00</td>\n",
       "      <td>87614.01</td>\n",
       "      <td>0.00</td>\n",
       "      <td>0.00</td>\n",
       "      <td>750.0</td>\n",
       "    </tr>\n",
       "  </tbody>\n",
       "</table>\n",
       "</div>"
      ],
      "text/plain": [
       "   Fiscal Year                     Agency Name  Last Name First Name Mid Init  \\\n",
       "0         2016  DISTRICT ATTORNEY-MANHATTAN     ABA'AHMID  RAHASHEEM        E   \n",
       "1         2016  DISTRICT ATTORNEY-MANHATTAN       ABENSUR   MARGARET      NaN   \n",
       "2         2016  DISTRICT ATTORNEY-MANHATTAN     ABOUNAOUM     ANDREA        L   \n",
       "3         2016  DISTRICT ATTORNEY-MANHATTAN       ABRAHAM   JONATHAN        J   \n",
       "4         2016  DISTRICT ATTORNEY-MANHATTAN        ABRAMS     JOSEPH      NaN   \n",
       "5         2016  DISTRICT ATTORNEY-MANHATTAN         ABREU   JENNIFER      NaN   \n",
       "6         2016  DISTRICT ATTORNEY-MANHATTAN         ABREU       JUAN        D   \n",
       "\n",
       "  Agency Start Date Work Location Borough  \\\n",
       "0        07/14/2003         MANHATTAN       \n",
       "1        06/12/1995         MANHATTAN       \n",
       "2        10/11/2011         MANHATTAN       \n",
       "3        12/01/2014         MANHATTAN       \n",
       "4        05/21/2015         MANHATTAN       \n",
       "5        09/04/2012         MANHATTAN       \n",
       "6        09/04/2007         MANHATTAN       \n",
       "\n",
       "                                   Title Description  \\\n",
       "0  COMMUNITY ASSOCIATE                           ...   \n",
       "1  ADMINISTRATIVE ACCOUNTANT                     ...   \n",
       "2  COMMUNITY ASSOCIATE                           ...   \n",
       "3  COMPUTER SYSTEMS MANAGER                      ...   \n",
       "4  COLLEGE AIDE                                  ...   \n",
       "5  ASSISTANT DISTRICT ATTORNEY                   ...   \n",
       "6  ASSISTANT DISTRICT ATTORNEY                   ...   \n",
       "\n",
       "  Leave Status as of June 30  Base Salary   Pay Basis  Regular Hours  \\\n",
       "0                     ACTIVE      47678.0   per Annum        1830.00   \n",
       "1                     ACTIVE     119959.0   per Annum        1831.00   \n",
       "2                   ON LEAVE      39966.0   per Annum        1181.68   \n",
       "3                     ACTIVE     116000.0   per Annum        1831.00   \n",
       "4                     CEASED          1.0    per Hour           0.00   \n",
       "5                     ACTIVE      71500.0   per Annum        1831.00   \n",
       "6                     ACTIVE      88000.0   per Annum        1831.00   \n",
       "\n",
       "   Regular Gross Paid  OT Hours  Total OT Paid  Total Other Pay  \n",
       "0            47166.03      2.25          57.28              0.0  \n",
       "1           119042.50      0.00           0.00              0.0  \n",
       "2            27452.62      1.00          21.34             33.0  \n",
       "3           115104.57      0.00           0.00              0.0  \n",
       "4             3500.00      0.00           0.00              0.0  \n",
       "5            71967.34      0.00           0.00              0.0  \n",
       "6            87614.01      0.00           0.00            750.0  "
      ]
     },
     "execution_count": 6,
     "metadata": {},
     "output_type": "execute_result"
    }
   ],
   "source": [
    "nycpay.head(7)"
   ]
  },
  {
   "cell_type": "code",
   "execution_count": 7,
   "metadata": {},
   "outputs": [
    {
     "data": {
      "text/html": [
       "<div>\n",
       "<table border=\"1\" class=\"dataframe\">\n",
       "  <thead>\n",
       "    <tr style=\"text-align: right;\">\n",
       "      <th></th>\n",
       "      <th>Fiscal Year</th>\n",
       "      <th>Agency Name</th>\n",
       "      <th>Last Name</th>\n",
       "      <th>First Name</th>\n",
       "      <th>Mid Init</th>\n",
       "      <th>Agency Start Date</th>\n",
       "      <th>Work Location Borough</th>\n",
       "      <th>Title Description</th>\n",
       "      <th>Leave Status as of June 30</th>\n",
       "      <th>Base Salary</th>\n",
       "      <th>Pay Basis</th>\n",
       "      <th>Regular Hours</th>\n",
       "      <th>Regular Gross Paid</th>\n",
       "      <th>OT Hours</th>\n",
       "      <th>Total OT Paid</th>\n",
       "      <th>Total Other Pay</th>\n",
       "    </tr>\n",
       "  </thead>\n",
       "  <tbody>\n",
       "    <tr>\n",
       "      <th>2194485</th>\n",
       "      <td>2017</td>\n",
       "      <td>DISTRICT ATTORNEY-SPECIAL NARC</td>\n",
       "      <td>XXX</td>\n",
       "      <td>XXX</td>\n",
       "      <td>NaN</td>\n",
       "      <td>03/17/1997</td>\n",
       "      <td>MANHATTAN</td>\n",
       "      <td>SUPERVISING RACKETS INVESTIGATOR</td>\n",
       "      <td>ACTIVE</td>\n",
       "      <td>89686.0</td>\n",
       "      <td>per Annum</td>\n",
       "      <td>2051.43</td>\n",
       "      <td>96646.24</td>\n",
       "      <td>63.0</td>\n",
       "      <td>4937.42</td>\n",
       "      <td>3624.24</td>\n",
       "    </tr>\n",
       "    <tr>\n",
       "      <th>2194486</th>\n",
       "      <td>2017</td>\n",
       "      <td>DISTRICT ATTORNEY-SPECIAL NARC</td>\n",
       "      <td>XXX</td>\n",
       "      <td>XXX</td>\n",
       "      <td>J</td>\n",
       "      <td>04/19/1993</td>\n",
       "      <td>MANHATTAN</td>\n",
       "      <td>SUPERVISING RACKETS INVESTIGATOR</td>\n",
       "      <td>ACTIVE</td>\n",
       "      <td>94245.0</td>\n",
       "      <td>per Annum</td>\n",
       "      <td>2051.43</td>\n",
       "      <td>105281.70</td>\n",
       "      <td>22.0</td>\n",
       "      <td>1544.83</td>\n",
       "      <td>3624.24</td>\n",
       "    </tr>\n",
       "    <tr>\n",
       "      <th>2194487</th>\n",
       "      <td>2017</td>\n",
       "      <td>DISTRICT ATTORNEY-SPECIAL NARC</td>\n",
       "      <td>XXX</td>\n",
       "      <td>XXX</td>\n",
       "      <td>L</td>\n",
       "      <td>02/10/1992</td>\n",
       "      <td>MANHATTAN</td>\n",
       "      <td>SUPERVISING RACKETS INVESTIGATOR</td>\n",
       "      <td>CEASED</td>\n",
       "      <td>89780.0</td>\n",
       "      <td>per Annum</td>\n",
       "      <td>1235.43</td>\n",
       "      <td>78923.55</td>\n",
       "      <td>160.0</td>\n",
       "      <td>12509.95</td>\n",
       "      <td>2388.87</td>\n",
       "    </tr>\n",
       "  </tbody>\n",
       "</table>\n",
       "</div>"
      ],
      "text/plain": [
       "         Fiscal Year                     Agency Name Last Name First Name  \\\n",
       "2194485         2017  DISTRICT ATTORNEY-SPECIAL NARC       XXX        XXX   \n",
       "2194486         2017  DISTRICT ATTORNEY-SPECIAL NARC       XXX        XXX   \n",
       "2194487         2017  DISTRICT ATTORNEY-SPECIAL NARC       XXX        XXX   \n",
       "\n",
       "        Mid Init Agency Start Date Work Location Borough  \\\n",
       "2194485      NaN        03/17/1997         MANHATTAN       \n",
       "2194486        J        04/19/1993         MANHATTAN       \n",
       "2194487        L        02/10/1992         MANHATTAN       \n",
       "\n",
       "                             Title Description Leave Status as of June 30  \\\n",
       "2194485  SUPERVISING RACKETS INVESTIGATOR                          ACTIVE   \n",
       "2194486  SUPERVISING RACKETS INVESTIGATOR                          ACTIVE   \n",
       "2194487  SUPERVISING RACKETS INVESTIGATOR                          CEASED   \n",
       "\n",
       "         Base Salary   Pay Basis  Regular Hours  Regular Gross Paid  OT Hours  \\\n",
       "2194485      89686.0   per Annum        2051.43            96646.24      63.0   \n",
       "2194486      94245.0   per Annum        2051.43           105281.70      22.0   \n",
       "2194487      89780.0   per Annum        1235.43            78923.55     160.0   \n",
       "\n",
       "         Total OT Paid  Total Other Pay  \n",
       "2194485        4937.42          3624.24  \n",
       "2194486        1544.83          3624.24  \n",
       "2194487       12509.95          2388.87  "
      ]
     },
     "execution_count": 7,
     "metadata": {},
     "output_type": "execute_result"
    }
   ],
   "source": [
    "nycpay.tail(3)"
   ]
  },
  {
   "cell_type": "code",
   "execution_count": 8,
   "metadata": {},
   "outputs": [
    {
     "data": {
      "text/plain": [
       "Index([u'Fiscal Year', u'Agency Name', u'Last Name', u'First Name',\n",
       "       u'Mid Init', u'Agency Start Date', u'Work Location Borough',\n",
       "       u'Title Description', u'Leave Status as of June 30', u'Base Salary',\n",
       "       u'Pay Basis', u'Regular Hours', u'Regular Gross Paid', u'OT Hours',\n",
       "       u'Total OT Paid', u'Total Other Pay'],\n",
       "      dtype='object')"
      ]
     },
     "execution_count": 8,
     "metadata": {},
     "output_type": "execute_result"
    }
   ],
   "source": [
    "nycpay.columns"
   ]
  },
  {
   "cell_type": "code",
   "execution_count": 9,
   "metadata": {},
   "outputs": [
    {
     "data": {
      "text/plain": [
       "35111808"
      ]
     },
     "execution_count": 9,
     "metadata": {},
     "output_type": "execute_result"
    }
   ],
   "source": [
    "nycpay.size"
   ]
  },
  {
   "cell_type": "code",
   "execution_count": 14,
   "metadata": {},
   "outputs": [],
   "source": [
    "nycpay_2c=nycpay[['Regular Hours','Base Salary']]"
   ]
  },
  {
   "cell_type": "code",
   "execution_count": 15,
   "metadata": {},
   "outputs": [
    {
     "data": {
      "text/html": [
       "<div>\n",
       "<table border=\"1\" class=\"dataframe\">\n",
       "  <thead>\n",
       "    <tr style=\"text-align: right;\">\n",
       "      <th></th>\n",
       "      <th>Regular Hours</th>\n",
       "      <th>Base Salary</th>\n",
       "    </tr>\n",
       "  </thead>\n",
       "  <tbody>\n",
       "    <tr>\n",
       "      <th>0</th>\n",
       "      <td>1830.00</td>\n",
       "      <td>47678.0</td>\n",
       "    </tr>\n",
       "    <tr>\n",
       "      <th>1</th>\n",
       "      <td>1831.00</td>\n",
       "      <td>119959.0</td>\n",
       "    </tr>\n",
       "    <tr>\n",
       "      <th>2</th>\n",
       "      <td>1181.68</td>\n",
       "      <td>39966.0</td>\n",
       "    </tr>\n",
       "    <tr>\n",
       "      <th>3</th>\n",
       "      <td>1831.00</td>\n",
       "      <td>116000.0</td>\n",
       "    </tr>\n",
       "    <tr>\n",
       "      <th>4</th>\n",
       "      <td>0.00</td>\n",
       "      <td>1.0</td>\n",
       "    </tr>\n",
       "  </tbody>\n",
       "</table>\n",
       "</div>"
      ],
      "text/plain": [
       "   Regular Hours  Base Salary\n",
       "0        1830.00      47678.0\n",
       "1        1831.00     119959.0\n",
       "2        1181.68      39966.0\n",
       "3        1831.00     116000.0\n",
       "4           0.00          1.0"
      ]
     },
     "execution_count": 15,
     "metadata": {},
     "output_type": "execute_result"
    }
   ],
   "source": [
    "nycpay_2c.head()"
   ]
  },
  {
   "cell_type": "code",
   "execution_count": 18,
   "metadata": {
    "scrolled": false
   },
   "outputs": [
    {
     "name": "stdout",
     "output_type": "stream",
     "text": [
      "Populating the interactive namespace from numpy and matplotlib\n"
     ]
    },
    {
     "data": {
      "text/plain": [
       "<matplotlib.axes._subplots.AxesSubplot at 0x7fa9059a38d0>"
      ]
     },
     "execution_count": 18,
     "metadata": {},
     "output_type": "execute_result"
    },
    {
     "data": {
      "image/png": "[encoded data removed]",
      "text/plain": [
       "<matplotlib.figure.Figure at 0x7fa90375e150>"
      ]
     },
     "metadata": {},
     "output_type": "display_data"
    }
   ],
   "source": [
    "%pylab inline\n",
    "nycpay_2c.plot(x=\"Regular Hours\",y=\"Base Salary\",kind='scatter',title='NYC Gov.t Employee Salaries')"
   ]
  },
  {
   "cell_type": "markdown",
   "metadata": {},
   "source": [
    "Figure 1: NYC Government employee base salaries plotted against base regular hours worked per annum"
   ]
  },
  {
   "cell_type": "code",
   "execution_count": null,
   "metadata": {},
   "outputs": [],
   "source": []
  }
 ],
 "metadata": {
  "kernelspec": {
   "display_name": "PUI2016_Python2",
   "language": "python",
   "name": "pui2016_python2"
  },
  "language_info": {
   "codemirror_mode": {
    "name": "ipython",
    "version": 2
   },
   "file_extension": ".py",
   "mimetype": "text/x-python",
   "name": "python",
   "nbconvert_exporter": "python",
   "pygments_lexer": "ipython2",
   "version": "2.7.12"
  }
 },
 "nbformat": 4,
 "nbformat_minor": 2
}
