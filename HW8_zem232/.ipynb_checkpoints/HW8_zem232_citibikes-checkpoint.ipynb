{
 "cells": [
  {
   "cell_type": "markdown",
   "metadata": {},
   "source": [
    "# NYU PUI - HOMEWORK 4 - Part 2 Citibikes\n",
    "\n",
    "Submitted by Zoe Martiniak (zem232)\n",
    "\n",
    "## Citi Bikes IDEA: \n",
    "#### Younger people are more likely to use Citi Bike in the evenings.\n",
    "\n",
    "## NULL HYPOTHESIS:\n",
    "#### The daily proportion of young people (the younger half of the population) is the same or higher than the proportion of the older people (the older half of the population) biking in the evenings (after 7 pm).\n",
    "\n",
    "# _$H_0$_ : $\\frac{Y_{\\mathrm{evening}}}{Y_{\\mathrm{total}}} - \\frac{O_{\\mathrm{evening}}}{O_{\\mathrm{total}}}>= 0 $\n",
    "# _$H_1$_ : $\\frac{Y_{\\mathrm{evening}}}{Y_{\\mathrm{total}}} - \\frac{O_{\\mathrm{evening}}}{O_{\\mathrm{total}}} < 0$\n",
    "\n",
    "\n",
    "#### I will use a significance level  $\\alpha=0.05$\n",
    "\n",
    "#### By calculating the daily proportion for a single month, I will obtain ~30 trials to test. Therefore, a t-test will suffice."
   ]
  },
  {
   "cell_type": "code",
   "execution_count": 1,
   "metadata": {},
   "outputs": [],
   "source": [
    "from __future__ import print_function\n",
    "__author__ = \"Zoe Martiniak, CUSP NYU 2018\"\n",
    "import numpy as np\n",
    "import pandas as pd\n",
    "import matplotlib\n",
    "font = {'family' : 'normal',\n",
    "        'weight' : 'bold',\n",
    "        'size'   : 88}\n",
    "\n",
    "matplotlib.rc('font', **font)\n",
    "import matplotlib.pyplot as plt\n",
    "import seaborn as sns\n",
    "import os\n",
    "%matplotlib inline\n",
    "np.random.seed(999)\n",
    "import warnings\n",
    "warnings.filterwarnings(action='once')\n",
    "import os\n",
    "import re\n",
    "from datetime import datetime\n",
    "from copy import deepcopy\n",
    "from pprint import pprint"
   ]
  },
  {
   "cell_type": "code",
   "execution_count": null,
   "metadata": {},
   "outputs": [],
   "source": [
    "# !pip install tqdm"
   ]
  },
  {
   "cell_type": "code",
   "execution_count": null,
   "metadata": {},
   "outputs": [],
   "source": [
    "# import time\n",
    "# from tqdm import *"
   ]
  },
  {
   "cell_type": "code",
   "execution_count": 2,
   "metadata": {},
   "outputs": [],
   "source": [
    "def getCitiBikeCSV(datestring):\n",
    "    print(\"Downloading\",datestring)\n",
    "    if not os.path.isfile(os.getenv(\"PUIDATA\") + \"/\" + datestring + \"-citibike-tripdata.zip\"):\n",
    "        if not os.path.isfile(datestring + \"-citibike-tripdata.zip\"):\n",
    "            os.system(\"curl -O https://s3.amazonaws.com/tripdata/\" + datestring + \"-citibike-tripdata.zip\")\n",
    "        ##  Unzip the folder\n",
    "        os.system(\"unzip \" + datestring + \"-citibike-tripdata.zip\")\n",
    "    ## Move to PUIdata\n",
    "    os.system(\"mv \" + datestring + \"-citibike-tripdata.csv \" + os.getenv(\"PUIDATA\"))\n",
    "    ## Delete zip in directory\n",
    "    os.system(\"rm \"+ datestring + \"-citibike-tripdata.zip\")\n",
    "    ## NOTE: old csv citibike data had a different name structure... and we don't want older data anyway.\n",
    "    if '2014' in datestring:\n",
    "        print(\"Please use a more recent dataset.\")\n",
    "    ### One final check:\n",
    "    if not os.path.isfile(os.getenv(\"PUIDATA\") + \"/\" + datestring + \"-citibike-tripdata.csv\"):\n",
    "        print (\"UH OH! There seems to be something wrong: the file is not there!\")\n",
    "    else:\n",
    "        print('File is in place, please continue.')"
   ]
  },
  {
   "cell_type": "code",
   "execution_count": 3,
   "metadata": {
    "scrolled": true
   },
   "outputs": [
    {
     "name": "stdout",
     "output_type": "stream",
     "text": [
      "Downloading 201609\n",
      "File is in place, please continue.\n"
     ]
    }
   ],
   "source": [
    "datestring = '201609'\n",
    "getCitiBikeCSV(datestring)"
   ]
  },
  {
   "cell_type": "code",
   "execution_count": 31,
   "metadata": {},
   "outputs": [],
   "source": [
    "cb_df = pd.read_csv(os.getenv(\"PUIDATA\") + \"/\" + datestring + '-citibike-tripdata.csv')"
   ]
  },
  {
   "cell_type": "code",
   "execution_count": 32,
   "metadata": {},
   "outputs": [],
   "source": [
    "## adding age column\n",
    "cb_df['age']= 2016-cb_df['birth year']\n",
    "## cleaning datafile\n",
    "cb_df.drop(['stoptime', 'start station id', 'start station name', 'start station latitude',\n",
    "        'start station longitude', 'end station id', 'end station name',\n",
    "        'end station latitude', 'end station longitude', 'bikeid', 'usertype', \n",
    "        'birth year','gender'], axis=1, inplace=True)\n",
    "cb_df.age.dropna(axis=0,inplace=True)\n",
    "cb_df['starttime'].dropna(axis=0,inplace=True)"
   ]
  },
  {
   "cell_type": "code",
   "execution_count": 33,
   "metadata": {},
   "outputs": [
    {
     "data": {
      "text/html": [
       "<div>\n",
       "<style scoped>\n",
       "    .dataframe tbody tr th:only-of-type {\n",
       "        vertical-align: middle;\n",
       "    }\n",
       "\n",
       "    .dataframe tbody tr th {\n",
       "        vertical-align: top;\n",
       "    }\n",
       "\n",
       "    .dataframe thead th {\n",
       "        text-align: right;\n",
       "    }\n",
       "</style>\n",
       "<table border=\"1\" class=\"dataframe\">\n",
       "  <thead>\n",
       "    <tr style=\"text-align: right;\">\n",
       "      <th></th>\n",
       "      <th>tripduration</th>\n",
       "      <th>age</th>\n",
       "    </tr>\n",
       "  </thead>\n",
       "  <tbody>\n",
       "    <tr>\n",
       "      <th>count</th>\n",
       "      <td>4123.000000</td>\n",
       "      <td>3593.000000</td>\n",
       "    </tr>\n",
       "    <tr>\n",
       "      <th>mean</th>\n",
       "      <td>1041.044143</td>\n",
       "      <td>37.932925</td>\n",
       "    </tr>\n",
       "    <tr>\n",
       "      <th>std</th>\n",
       "      <td>6395.784142</td>\n",
       "      <td>11.702046</td>\n",
       "    </tr>\n",
       "    <tr>\n",
       "      <th>min</th>\n",
       "      <td>63.000000</td>\n",
       "      <td>16.000000</td>\n",
       "    </tr>\n",
       "    <tr>\n",
       "      <th>25%</th>\n",
       "      <td>403.500000</td>\n",
       "      <td>29.000000</td>\n",
       "    </tr>\n",
       "    <tr>\n",
       "      <th>50%</th>\n",
       "      <td>696.000000</td>\n",
       "      <td>35.000000</td>\n",
       "    </tr>\n",
       "    <tr>\n",
       "      <th>75%</th>\n",
       "      <td>1184.500000</td>\n",
       "      <td>46.000000</td>\n",
       "    </tr>\n",
       "    <tr>\n",
       "      <th>max</th>\n",
       "      <td>395651.000000</td>\n",
       "      <td>76.000000</td>\n",
       "    </tr>\n",
       "  </tbody>\n",
       "</table>\n",
       "</div>"
      ],
      "text/plain": [
       "        tripduration          age\n",
       "count    4123.000000  3593.000000\n",
       "mean     1041.044143    37.932925\n",
       "std      6395.784142    11.702046\n",
       "min        63.000000    16.000000\n",
       "25%       403.500000    29.000000\n",
       "50%       696.000000    35.000000\n",
       "75%      1184.500000    46.000000\n",
       "max    395651.000000    76.000000"
      ]
     },
     "execution_count": 33,
     "metadata": {},
     "output_type": "execute_result"
    }
   ],
   "source": [
    "# chopping up data\n",
    "cb_df = cb_df[::400]\n",
    "cb_df.describe()"
   ]
  },
  {
   "cell_type": "code",
   "execution_count": 34,
   "metadata": {},
   "outputs": [],
   "source": [
    "# for i in tqdm(cb_df.index):\n",
    "#    cb_df['date'][i]=pd.to_datetime(cb_df['starttime'][i])"
   ]
  },
  {
   "cell_type": "code",
   "execution_count": 35,
   "metadata": {},
   "outputs": [
    {
     "data": {
      "text/html": [
       "<div>\n",
       "<style scoped>\n",
       "    .dataframe tbody tr th:only-of-type {\n",
       "        vertical-align: middle;\n",
       "    }\n",
       "\n",
       "    .dataframe tbody tr th {\n",
       "        vertical-align: top;\n",
       "    }\n",
       "\n",
       "    .dataframe thead th {\n",
       "        text-align: right;\n",
       "    }\n",
       "</style>\n",
       "<table border=\"1\" class=\"dataframe\">\n",
       "  <thead>\n",
       "    <tr style=\"text-align: right;\">\n",
       "      <th></th>\n",
       "      <th>tripduration</th>\n",
       "      <th>age</th>\n",
       "      <th>date</th>\n",
       "      <th>after_7pm</th>\n",
       "    </tr>\n",
       "  </thead>\n",
       "  <tbody>\n",
       "    <tr>\n",
       "      <th>0</th>\n",
       "      <td>975</td>\n",
       "      <td>31.0</td>\n",
       "      <td>2016-09-01 00:00:02</td>\n",
       "      <td>False</td>\n",
       "    </tr>\n",
       "    <tr>\n",
       "      <th>400</th>\n",
       "      <td>345</td>\n",
       "      <td>27.0</td>\n",
       "      <td>2016-09-01 00:46:13</td>\n",
       "      <td>False</td>\n",
       "    </tr>\n",
       "    <tr>\n",
       "      <th>800</th>\n",
       "      <td>866</td>\n",
       "      <td>58.0</td>\n",
       "      <td>2016-09-01 04:42:47</td>\n",
       "      <td>False</td>\n",
       "    </tr>\n",
       "    <tr>\n",
       "      <th>1200</th>\n",
       "      <td>564</td>\n",
       "      <td>27.0</td>\n",
       "      <td>2016-09-01 06:10:25</td>\n",
       "      <td>False</td>\n",
       "    </tr>\n",
       "    <tr>\n",
       "      <th>1600</th>\n",
       "      <td>371</td>\n",
       "      <td>31.0</td>\n",
       "      <td>2016-09-01 06:39:29</td>\n",
       "      <td>False</td>\n",
       "    </tr>\n",
       "    <tr>\n",
       "      <th>2000</th>\n",
       "      <td>373</td>\n",
       "      <td>54.0</td>\n",
       "      <td>2016-09-01 07:00:11</td>\n",
       "      <td>False</td>\n",
       "    </tr>\n",
       "    <tr>\n",
       "      <th>2400</th>\n",
       "      <td>237</td>\n",
       "      <td>32.0</td>\n",
       "      <td>2016-09-01 07:20:22</td>\n",
       "      <td>False</td>\n",
       "    </tr>\n",
       "  </tbody>\n",
       "</table>\n",
       "</div>"
      ],
      "text/plain": [
       "      tripduration   age                date  after_7pm\n",
       "0              975  31.0 2016-09-01 00:00:02      False\n",
       "400            345  27.0 2016-09-01 00:46:13      False\n",
       "800            866  58.0 2016-09-01 04:42:47      False\n",
       "1200           564  27.0 2016-09-01 06:10:25      False\n",
       "1600           371  31.0 2016-09-01 06:39:29      False\n",
       "2000           373  54.0 2016-09-01 07:00:11      False\n",
       "2400           237  32.0 2016-09-01 07:20:22      False"
      ]
     },
     "execution_count": 35,
     "metadata": {},
     "output_type": "execute_result"
    }
   ],
   "source": [
    "## adding date and time column\n",
    "cb_df['date'] = pd.to_datetime(cb_df['starttime'])\n",
    "cb_df.drop(['starttime'],axis=1,inplace=True)\n",
    "cb_df['after_7pm'] = cb_df['date'].apply(lambda dt: dt.hour >= 19)\n",
    "cb_df.head(7)"
   ]
  },
  {
   "cell_type": "code",
   "execution_count": 36,
   "metadata": {},
   "outputs": [],
   "source": [
    "am = cb_df['age'].mean()\n",
    "age_y=cb_df[cb_df.age < am]\n",
    "age_o=cb_df[cb_df.age > am]"
   ]
  },
  {
   "cell_type": "code",
   "execution_count": 37,
   "metadata": {},
   "outputs": [],
   "source": [
    "am = cb_df['age'].mean()\n",
    "# get ix\n",
    "age_y = cb_df['age']<am\n",
    "age_o = cb_df['age']>am\n",
    "# make boolean flag series'\n",
    "night = cb_df['date'].apply(lambda dt: dt.hour >= 19)\n",
    "day = cb_df['date'].apply(lambda dt: dt.hour < 19)\n",
    "\n",
    "# group by date and then count rows to get trip counts\n",
    "# total \"young people\" rides = age_y\n",
    "_tot_y = cb_df[age_y].groupby(cb_df[age_y]['date'].map(lambda x: x.date())).count()\n",
    "# total \"old people\" rides = age_o\n",
    "_tot_o = cb_df[age_o].groupby(cb_df[age_o]['date'].map(lambda x: x.date())).count()\n",
    "# isolating young people starting trips after 7pm = age_y & night\n",
    "_y_7pm_a = cb_df[age_y & night].groupby(cb_df[age_y & night]['date'].map(lambda x: x.date())).count()\n",
    "# isolating old people starting trips after 7pm = age_o & night\n",
    "_o_7pm_a = cb_df[age_o & day].groupby(cb_df[age_o & day]['date'].map(lambda x: x.date())).count()"
   ]
  },
  {
   "cell_type": "code",
   "execution_count": 45,
   "metadata": {},
   "outputs": [
    {
     "data": {
      "text/html": [
       "<div>\n",
       "<style scoped>\n",
       "    .dataframe tbody tr th:only-of-type {\n",
       "        vertical-align: middle;\n",
       "    }\n",
       "\n",
       "    .dataframe tbody tr th {\n",
       "        vertical-align: top;\n",
       "    }\n",
       "\n",
       "    .dataframe thead th {\n",
       "        text-align: right;\n",
       "    }\n",
       "</style>\n",
       "<table border=\"1\" class=\"dataframe\">\n",
       "  <thead>\n",
       "    <tr style=\"text-align: right;\">\n",
       "      <th></th>\n",
       "      <th>total_young</th>\n",
       "      <th>total_old</th>\n",
       "      <th>total_young_after_7pm</th>\n",
       "      <th>total_old_after_7pm</th>\n",
       "    </tr>\n",
       "    <tr>\n",
       "      <th>date</th>\n",
       "      <th></th>\n",
       "      <th></th>\n",
       "      <th></th>\n",
       "      <th></th>\n",
       "    </tr>\n",
       "  </thead>\n",
       "  <tbody>\n",
       "    <tr>\n",
       "      <th>2016-09-01</th>\n",
       "      <td>55</td>\n",
       "      <td>32</td>\n",
       "      <td>15</td>\n",
       "      <td>25</td>\n",
       "    </tr>\n",
       "    <tr>\n",
       "      <th>2016-09-02</th>\n",
       "      <td>76</td>\n",
       "      <td>40</td>\n",
       "      <td>9</td>\n",
       "      <td>34</td>\n",
       "    </tr>\n",
       "    <tr>\n",
       "      <th>2016-09-03</th>\n",
       "      <td>49</td>\n",
       "      <td>23</td>\n",
       "      <td>11</td>\n",
       "      <td>20</td>\n",
       "    </tr>\n",
       "    <tr>\n",
       "      <th>2016-09-04</th>\n",
       "      <td>54</td>\n",
       "      <td>25</td>\n",
       "      <td>14</td>\n",
       "      <td>22</td>\n",
       "    </tr>\n",
       "    <tr>\n",
       "      <th>2016-09-05</th>\n",
       "      <td>56</td>\n",
       "      <td>25</td>\n",
       "      <td>11</td>\n",
       "      <td>19</td>\n",
       "    </tr>\n",
       "  </tbody>\n",
       "</table>\n",
       "</div>"
      ],
      "text/plain": [
       "            total_young  total_old  total_young_after_7pm  total_old_after_7pm\n",
       "date                                                                          \n",
       "2016-09-01           55         32                     15                   25\n",
       "2016-09-02           76         40                      9                   34\n",
       "2016-09-03           49         23                     11                   20\n",
       "2016-09-04           54         25                     14                   22\n",
       "2016-09-05           56         25                     11                   19"
      ]
     },
     "execution_count": 45,
     "metadata": {},
     "output_type": "execute_result"
    }
   ],
   "source": [
    "# using _df_cnts, merge the dataframe one by one\n",
    "_df_cnts = pd.DataFrame(index=_tot_y.index)\n",
    "_columns = _tot_y.columns\n",
    "\n",
    "\n",
    "for df in ['_tot_y', '_tot_o', '_y_7pm_a', '_o_7pm_a']:\n",
    "    _df_cnts = _df_cnts.merge(\n",
    "        globals()[df] # get dataframe from global frame\n",
    "        , how='inner'\n",
    "        , left_index=True\n",
    "        , right_index=True\n",
    "        , sort=True\n",
    "        , suffixes=['', df]\n",
    "    )\n",
    "    _df_cnts.drop(\n",
    "        columns=[c for c in _df_cnts.columns if not c.startswith('after_7pm') or c.startswith('cnt')]\n",
    "        , inplace=True\n",
    "    )\n",
    "    _df_cnts.rename(\n",
    "        columns = {\n",
    "            'after_7pm_%s' % df: 'cnt_%s' % df \n",
    "        }\n",
    "        , inplace=True\n",
    "    )\n",
    "\n",
    "_df_cnts.rename(\n",
    "        columns = {\n",
    "            'after_7pm': 'total_young'\n",
    "            , 'after_7pm_tot_o': 'total_old'\n",
    "            , 'after_7pm_y_7pm_a': 'total_young_after_7pm'\n",
    "            , 'after_7pm_o_7pm_a': 'total_old_after_7pm'\n",
    "        }\n",
    "        , inplace=True\n",
    "    )\n",
    "_df_cnts.head(5)"
   ]
  },
  {
   "cell_type": "code",
   "execution_count": 46,
   "metadata": {},
   "outputs": [],
   "source": [
    "_df_cnts['young_proportion'] = _df_cnts['total_young_after_7pm'] / _df_cnts['total_young']\n",
    "_df_cnts['old_proportion'] = _df_cnts['total_old_after_7pm'] / _df_cnts['total_old']"
   ]
  },
  {
   "cell_type": "code",
   "execution_count": 47,
   "metadata": {},
   "outputs": [
    {
     "data": {
      "text/html": [
       "<div>\n",
       "<style scoped>\n",
       "    .dataframe tbody tr th:only-of-type {\n",
       "        vertical-align: middle;\n",
       "    }\n",
       "\n",
       "    .dataframe tbody tr th {\n",
       "        vertical-align: top;\n",
       "    }\n",
       "\n",
       "    .dataframe thead th {\n",
       "        text-align: right;\n",
       "    }\n",
       "</style>\n",
       "<table border=\"1\" class=\"dataframe\">\n",
       "  <thead>\n",
       "    <tr style=\"text-align: right;\">\n",
       "      <th></th>\n",
       "      <th>young_proportion</th>\n",
       "      <th>old_proportion</th>\n",
       "    </tr>\n",
       "    <tr>\n",
       "      <th>date</th>\n",
       "      <th></th>\n",
       "      <th></th>\n",
       "    </tr>\n",
       "  </thead>\n",
       "  <tbody>\n",
       "    <tr>\n",
       "      <th>2016-09-01</th>\n",
       "      <td>0.272727</td>\n",
       "      <td>0.781250</td>\n",
       "    </tr>\n",
       "    <tr>\n",
       "      <th>2016-09-02</th>\n",
       "      <td>0.118421</td>\n",
       "      <td>0.850000</td>\n",
       "    </tr>\n",
       "    <tr>\n",
       "      <th>2016-09-03</th>\n",
       "      <td>0.224490</td>\n",
       "      <td>0.869565</td>\n",
       "    </tr>\n",
       "    <tr>\n",
       "      <th>2016-09-04</th>\n",
       "      <td>0.259259</td>\n",
       "      <td>0.880000</td>\n",
       "    </tr>\n",
       "    <tr>\n",
       "      <th>2016-09-05</th>\n",
       "      <td>0.196429</td>\n",
       "      <td>0.760000</td>\n",
       "    </tr>\n",
       "  </tbody>\n",
       "</table>\n",
       "</div>"
      ],
      "text/plain": [
       "            young_proportion  old_proportion\n",
       "date                                        \n",
       "2016-09-01          0.272727        0.781250\n",
       "2016-09-02          0.118421        0.850000\n",
       "2016-09-03          0.224490        0.869565\n",
       "2016-09-04          0.259259        0.880000\n",
       "2016-09-05          0.196429        0.760000"
      ]
     },
     "execution_count": 47,
     "metadata": {},
     "output_type": "execute_result"
    }
   ],
   "source": [
    "_columns_i_want = ['young_proportion', 'old_proportion']\n",
    "_df_cnts.drop(columns=[c for c in _df_cnts.columns if c not in _columns_i_want], inplace=True)\n",
    "_df_cnts.head()"
   ]
  },
  {
   "cell_type": "markdown",
   "metadata": {},
   "source": [
    "#### Testing Hypothesis: The *daily* proportion of young people (the younger half of the population) is the same or higher than the proportion of the older people (the older half of the population) biking in the evenings (after 7 pm).\n",
    "\n",
    "# _$H_0$_ : $\\frac{Y_{\\mathrm{evening}}}{Y_{\\mathrm{total}}} - \\frac{O_{\\mathrm{evening}}}{O_{\\mathrm{total}}}<= 0 $\n",
    "# _$H_1$_ : $\\frac{Y_{\\mathrm{evening}}}{Y_{\\mathrm{total}}} - \\frac{O_{\\mathrm{evening}}}{O_{\\mathrm{total}}} > 0$\n",
    "\n",
    "#### My test will be conducted with **95% significance level**\n",
    "Since we have only 30 samples, I will be performing a one-taied t-test for the difference between means of two samples:"
   ]
  },
  {
   "cell_type": "code",
   "execution_count": 48,
   "metadata": {},
   "outputs": [
    {
     "data": {
      "text/plain": [
       "-58.34540452423356"
      ]
     },
     "execution_count": 48,
     "metadata": {},
     "output_type": "execute_result"
    }
   ],
   "source": [
    "my=_df_cnts['young_proportion'].mean()\n",
    "mo=_df_cnts['old_proportion'].mean()\n",
    "sy=_df_cnts['young_proportion'].std()\n",
    "so=_df_cnts['young_proportion'].std()\n",
    "n=_df_cnts['young_proportion'].count()\n",
    "# caclculate t-statistic\n",
    "t=(my-mo)/((((sy**2)/n)+((so**2)/n))**0.5)\n",
    "t"
   ]
  },
  {
   "cell_type": "code",
   "execution_count": 50,
   "metadata": {},
   "outputs": [
    {
     "name": "stdout",
     "output_type": "stream",
     "text": [
      "The test statistic -58.34540452423356 is less than the critical value 6.314, so we failed to reject the null hypothesis\n"
     ]
    }
   ],
   "source": [
    "cv=6.314\n",
    "if t>cv:\n",
    "    print('The test statistic %s is greater than the critical value %s, therefore we reject the null hypothesis'%(t,cv))\n",
    "else:\n",
    "    print('The test statistic %s is less than the critical value %s, so we failed to reject the null hypothesis'%(t,cv))"
   ]
  },
  {
   "cell_type": "code",
   "execution_count": null,
   "metadata": {},
   "outputs": [],
   "source": []
  }
 ],
 "metadata": {
  "kernelspec": {
   "display_name": "Python 3",
   "language": "python",
   "name": "python3"
  },
  "language_info": {
   "codemirror_mode": {
    "name": "ipython",
    "version": 3
   },
   "file_extension": ".py",
   "mimetype": "text/x-python",
   "name": "python",
   "nbconvert_exporter": "python",
   "pygments_lexer": "ipython3",
   "version": "3.6.5"
  }
 },
 "nbformat": 4,
 "nbformat_minor": 2
}
