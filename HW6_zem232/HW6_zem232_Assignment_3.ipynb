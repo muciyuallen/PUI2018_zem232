{
 "cells": [
  {
   "cell_type": "markdown",
   "metadata": {},
   "source": [
    "# PUI 2018 - HOMEWORK 6 - Part 3\n",
    "## Effectiveness of Post-Prison Employment Programs in NYC\n",
    "Principles of Urban Informatics, Fall 2018 class\n",
    "@ New York University's Center for Urban Science & Progress\n",
    "Taughty by Federica Bianco\n",
    "\n",
    "October 16, 2018\n",
    "Author: Zoe Martiniak (zem232)\n",
    "\n",
    "Reproducing the results produced in OPRE'S \"Final Results of the Hard-to-Employ Demonstration and Evaluation Project and Selected Sites from the Employment Retention and Advancement Project\" Report, March 2012."
   ]
  },
  {
   "cell_type": "code",
   "execution_count": 1,
   "metadata": {},
   "outputs": [
    {
     "name": "stdout",
     "output_type": "stream",
     "text": [
      "Populating the interactive namespace from numpy and matplotlib\n"
     ]
    }
   ],
   "source": [
    "import os\n",
    "import sys\n",
    "import numpy as np\n",
    "import pylab as pl\n",
    "%pylab inline\n",
    "\n",
    "from IPython.display import Image\n"
   ]
  },
  {
   "cell_type": "markdown",
   "metadata": {},
   "source": [
    "## Part 1. Null Hypothesis:\n",
    "\n",
    "the % of former prisoners employed after release is the same or lower for candidates who participated with the program as for the control group, significance level p=0.05"
   ]
  },
  {
   "cell_type": "markdown",
   "metadata": {},
   "source": [
    "0 represents the control group, and 1 represents the program group. \n",
    "\n",
    "$$H_0 : P_0-P_1\\geq0$$\n",
    "$$H_a : P_0-P_1<0$$\n",
    "$$ \\alpha=0.05$$\n",
    "\n",
    "Our hypothesis represents a test of proportions. The Binomial distribution applies since it is a yes/no (boolean) test for each subject: the former inmate was or was not employed in a CEO transitional job. The following results indicate the percent of former prisoners who were ever employed in a CEO transitional job (Years 1-3):\n",
    "\n",
    "$$ P_0=0.035, \\ P_1=0.701$$\n",
    "\n",
    "### I want to look at the total employed after release from prison (first row \"Ever employed\" in Employment (Years1-3))\n",
    "The following results indicate the percent of former prisoners who were ever employed after release:\n",
    "\n",
    "$$ P_0=0.704, \\ P_1=0.838$$"
   ]
  },
  {
   "cell_type": "code",
   "execution_count": 2,
   "metadata": {},
   "outputs": [
    {
     "name": "stdout",
     "output_type": "stream",
     "text": [
      "we must assess the statistical significance\n"
     ]
    }
   ],
   "source": [
    "# Setting significance threshold\n",
    "alpha=0.05\n",
    "\n",
    "# Converting 0 for control group, 1 for program group\n",
    "\n",
    "P_0 = 70.4 * 0.01 \n",
    "P_1 = 83.8 * 0.01\n",
    "\n",
    "if P_0 - P_1 >= 0:\n",
    "    # we are done\n",
    "    print (\"the Null holds\")\n",
    "else:\n",
    "    print (\"we must assess the statistical significance\")\n",
    "\n",
    "#sample sizes \n",
    "\n",
    "n_0 = 409\n",
    "n_1 = 564\n",
    "    \n",
    "#lets get the counts by multiplying by the sample size\n",
    "\n",
    "Nt_0 = P_0 * n_0\n",
    "Nt_1 = P_1 * n_1"
   ]
  },
  {
   "cell_type": "code",
   "execution_count": 3,
   "metadata": {},
   "outputs": [
    {
     "name": "stdout",
     "output_type": "stream",
     "text": [
      "0.781673175745\n"
     ]
    }
   ],
   "source": [
    "# defining sample proportion\n",
    "sp = (P_0 * n_0 + P_1 * n_1) / (n_1 + n_0)\n",
    "print (sp)"
   ]
  },
  {
   "cell_type": "code",
   "execution_count": 4,
   "metadata": {},
   "outputs": [],
   "source": [
    "# Functions to calculate p & the standard error\n",
    "\n",
    "P = lambda p0, p1, n0, n1: (p0 * n0 + p1 * n1) / (n0 + n1)\n",
    "#standard error\n",
    "se = lambda p, n0, n1: np.sqrt(p * (1 - p) * (1.0 / n0 + 1.0 / n1))"
   ]
  },
  {
   "cell_type": "code",
   "execution_count": 6,
   "metadata": {},
   "outputs": [
    {
     "name": "stdout",
     "output_type": "stream",
     "text": [
      "4.99440125464\n"
     ]
    }
   ],
   "source": [
    "# z-score:\n",
    "zscore=lambda p0,p1,s:(p0-p1)/s\n",
    "z_2y = zscore(P_1,P_0, se(P(P_0,P_1,n_0,n_1),n_0,n_1))\n",
    "print(z_2y)"
   ]
  },
  {
   "cell_type": "code",
   "execution_count": 7,
   "metadata": {},
   "outputs": [
    {
     "name": "stdout",
     "output_type": "stream",
     "text": [
      "is the p value 0.00 smaller than the critical value 0.05?\n",
      "YES!\n",
      "the Null hypothesis is rejected\n"
     ]
    }
   ],
   "source": [
    "p_2y=1-0.9984\n",
    "p_2y = 1 - 0.9984\n",
    "\n",
    "\n",
    "def report_result(p,a):\n",
    "    print ('is the p value ' + \n",
    "           '{0:.2f} smaller than the critical value {1:.2f}?'.format(p,a))\n",
    "    if p < a:\n",
    "        print (\"YES!\")\n",
    "    else: \n",
    "        print (\"NO!\")\n",
    "    \n",
    "    print ('the Null hypothesis is {}'.format(\\\n",
    "                            'rejected' if p < a  else 'not rejected') )\n",
    "\n",
    "    \n",
    "report_result(p_2y, alpha)\n"
   ]
  },
  {
   "cell_type": "markdown",
   "metadata": {},
   "source": [
    "## Part 2. Null Hypothesis:\n",
    "the % of former prisoners convicted of a felony after release is the same or lower for candidates who participated with the program as for the control group, significance level p=0.05\n",
    "\n",
    "0 represents the control group, and 1 represents the program group. \n",
    "\n",
    "$$H_0 : P_0-P_1\\geq0$$\n",
    "$$H_a : P_0-P_1<0$$\n",
    "$$ \\alpha=0.05$$\n",
    "\n",
    "Our hypothesis represents a test of proportions. The Binomial distribution applies since it is a yes/no (boolean) test for each subject: the former inmate was or was not convicted of a felony. The following results indicate the percent of former prisoners who were convicted of felonies after releas:\n",
    "\n",
    "$$ P_0=0.117, \\ P_1=0.10$$\n"
   ]
  },
  {
   "cell_type": "code",
   "execution_count": 8,
   "metadata": {},
   "outputs": [
    {
     "name": "stdout",
     "output_type": "stream",
     "text": [
      "we must assess the statistical significance\n"
     ]
    }
   ],
   "source": [
    "alpha=0.05\n",
    "P_0 = 70.4 * 0.01 \n",
    "P_1 = 83.8 * 0.01\n",
    "\n",
    "if P_0 - P_1 >= 0:\n",
    "    # we are done\n",
    "    print (\"the Null holds\")\n",
    "else:\n",
    "    print (\"we must assess the statistical significance\")\n",
    "\n",
    "#sample sizes \n",
    "n_0 = 409\n",
    "n_1 = 564\n",
    "Nt_0 = P_0 * n_0\n",
    "Nt_1 = P_1 * n_1"
   ]
  },
  {
   "cell_type": "code",
   "execution_count": 9,
   "metadata": {},
   "outputs": [
    {
     "name": "stdout",
     "output_type": "stream",
     "text": [
      "0.781673175745\n"
     ]
    }
   ],
   "source": [
    "sp = (P_0 * n_0 + P_1 * n_1) / (n_1 + n_0)\n",
    "print (sp)\n",
    "P = lambda p0, p1, n0, n1: (p0 * n0 + p1 * n1) / (n0 + n1)\n",
    "#standard error\n",
    "se = lambda p, n0, n1: np.sqrt(p * (1 - p) * (1.0 / n0 + 1.0 / n1))"
   ]
  },
  {
   "cell_type": "code",
   "execution_count": 31,
   "metadata": {},
   "outputs": [
    {
     "name": "stdout",
     "output_type": "stream",
     "text": [
      "4.99440125464\n"
     ]
    }
   ],
   "source": [
    "zscore=lambda p0,p1,s:(p0-p1)/s\n",
    "z_2y = zscore(P_1,P_0, se(P(P_0,P_1,n_0,n_1),n_0,n_1))\n",
    "print(z_2y)"
   ]
  },
  {
   "cell_type": "code",
   "execution_count": 32,
   "metadata": {
    "scrolled": true
   },
   "outputs": [
    {
     "name": "stdout",
     "output_type": "stream",
     "text": [
      "is the p value 0.00 smaller than the critical value 0.05?\n",
      "YES!\n",
      "the Null hypothesis is rejected\n"
     ]
    }
   ],
   "source": [
    "p_2y=1-0.9984\n",
    "\n",
    "\n",
    "def report_result(p,a):\n",
    "    print ('is the p value ' + \n",
    "           '{0:.2f} smaller than the critical value {1:.2f}?'.format(p,a))\n",
    "    if p < a:\n",
    "        print (\"YES!\")\n",
    "    else: \n",
    "        print (\"NO!\")\n",
    "    \n",
    "    print ('the Null hypothesis is {}'.format(\\\n",
    "                            'rejected' if p < a  else 'not rejected') )\n",
    "\n",
    "    \n",
    "report_result(p_2y, alpha)"
   ]
  },
  {
   "cell_type": "markdown",
   "metadata": {},
   "source": [
    "## Part 3: Chi Square for Employment\n",
    "### Contingency table\n",
    "\n",
    "\n",
    "\n",
    "| Post-release Employment | Employed | Not Employed |        |\n",
    "|---------------------------|----------|--------------|--------|\n",
    "| Test Sample   |0.838x564 = 472.63 | 0.162x564= 91.37 |  564      |\n",
    "| Control Sample  |0.704x409 = 287.94  |   0.295x409= 121.06 |    409    |\n",
    "| Total               | 760.57 |  212.43       |   973    |\n",
    "\n",
    "Chisq statistics:\n",
    "$\\chi^2 = \\sum_i \\frac{(f_{i,observed} - f_{i,expectated})^2}{f_{i,expected}}$\n"
   ]
  },
  {
   "cell_type": "code",
   "execution_count": 25,
   "metadata": {},
   "outputs": [],
   "source": [
    "# ct=contingency table\n",
    "def evalChisq(ct):\n",
    "        return ((ct[0,0]*ct[1,1]-ct[1,0]*ct[0,1])**2)*(sum(ct))/((sum(ct[0]))*(sum(ct[1]))*sum(ct[:,0])*sum(ct[:,1]))\n",
    "    "
   ]
  },
  {
   "cell_type": "code",
   "execution_count": 28,
   "metadata": {},
   "outputs": [
    {
     "name": "stdout",
     "output_type": "stream",
     "text": [
      "436.223462575\n"
     ]
    }
   ],
   "source": [
    "sample_values = np.array([[0.701 * 564, 0.299 * 564], [0.0305 * 409, 0.965 * 409]])\n",
    "print (evalChisq(sample_values))"
   ]
  },
  {
   "cell_type": "code",
   "execution_count": 29,
   "metadata": {},
   "outputs": [
    {
     "name": "stdout",
     "output_type": "stream",
     "text": [
      "24.9440438924\n"
     ]
    }
   ],
   "source": [
    "employment = np.array([[0.838 * 564, 0.162 * 564], [0.704 * 409, 0.296 * 409]])\n",
    "print (evalChisq(employment))"
   ]
  },
  {
   "cell_type": "code",
   "execution_count": 39,
   "metadata": {},
   "outputs": [
    {
     "name": "stdout",
     "output_type": "stream",
     "text": [
      "Does the chisq statistic value 24.94 exceed the critical value 3.84?\n",
      "YES!\n",
      "the Null hypothesis is rejected\n"
     ]
    }
   ],
   "source": [
    "DOF=(size(employment[0])-1)*(size(employment[1])-1)\n",
    "x2=evalChisq(employment)\n",
    "cv=3.841\n",
    "def chi_result(x2,cv):\n",
    "    print ('Does the chisq statistic value ' + \n",
    "           '{0:.2f} exceed the critical value {1:.2f}?'.format(x2,cv))\n",
    "    if x2 > cv:\n",
    "        print (\"YES!\")\n",
    "    else: \n",
    "        print (\"NO!\")\n",
    "    \n",
    "    print ('the Null hypothesis is {}'.format(\\\n",
    "                            'rejected' if x2 > cv  else 'not rejected') )\n",
    "\n",
    "chi_result(x2,cv)"
   ]
  },
  {
   "cell_type": "markdown",
   "metadata": {},
   "source": [
    "The chi-square statistic exceeds the critical value, meaning that the data fits 95% of the Chi-square distribution curve and we have significant evidence to reject the null hypothesis that the variables are independent (e.g. there is a correlation between employment rate after prison release and enrollment in the program)."
   ]
  },
  {
   "cell_type": "markdown",
   "metadata": {},
   "source": [
    "## Part 4: Chi Square for Felony Recidivism\n",
    "### Contingency table\n",
    "\n",
    "|convicted of a fellony     |     yes   | no        |    total            \n",
    "|---------------------------|-----------|-----------|----------------|\n",
    "| Test Sample   |0.10x564 = 56.4 | 0.90x564=507.6 |  564      |\n",
    "| Control Sample  |0.117x409 = 47.8 |   0.2883x409= 361.2 |    409    |\n",
    "|     |         |         |     |\n",
    "| Total               | 104.2 |  868.8       |   973    |"
   ]
  },
  {
   "cell_type": "code",
   "execution_count": 47,
   "metadata": {},
   "outputs": [
    {
     "name": "stdout",
     "output_type": "stream",
     "text": [
      "37.2448770044\n"
     ]
    }
   ],
   "source": [
    "felonies = np.array([[0.1*564, .9*564], [0.117 * 409, 0.2883 * 409]])\n",
    "print (evalChisq(felonies))"
   ]
  },
  {
   "cell_type": "code",
   "execution_count": 48,
   "metadata": {},
   "outputs": [
    {
     "name": "stdout",
     "output_type": "stream",
     "text": [
      "Does the chisq statistic value 37.24 exceed the critical value 3.84?\n",
      "YES!\n",
      "the Null hypothesis is rejected\n"
     ]
    }
   ],
   "source": [
    "x2_felonies=evalChisq(felonies)\n",
    "cv=3.841\n",
    "chi_result(x2_felonies,cv)"
   ]
  },
  {
   "cell_type": "markdown",
   "metadata": {},
   "source": [
    "The chi-square statistic exceeds the critical value, so we have significant evidence to reject the null hypothesis that the variables are independent (e.g. there is a correlation between felony recidivism and enrollment in the program)."
   ]
  },
  {
   "cell_type": "code",
   "execution_count": null,
   "metadata": {},
   "outputs": [],
   "source": []
  }
 ],
 "metadata": {
  "kernelspec": {
   "display_name": "PUI2016_Python2",
   "language": "python",
   "name": "pui2016_python2"
  },
  "language_info": {
   "codemirror_mode": {
    "name": "ipython",
    "version": 2
   },
   "file_extension": ".py",
   "mimetype": "text/x-python",
   "name": "python",
   "nbconvert_exporter": "python",
   "pygments_lexer": "ipython2",
   "version": "2.7.12"
  }
 },
 "nbformat": 4,
 "nbformat_minor": 2
}
